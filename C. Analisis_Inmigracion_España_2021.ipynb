{
 "cells": [
  {
   "cell_type": "code",
   "execution_count": 3,
   "metadata": {},
   "outputs": [],
   "source": [
    "# Importamos las librerías que se utilizarán:\n",
    "\n",
    "import pandas as pd\n",
    "import numpy as np\n",
    "import matplotlib.pyplot as plt\n",
    "import seaborn as sns"
   ]
  },
  {
   "cell_type": "code",
   "execution_count": 6,
   "metadata": {},
   "outputs": [
    {
     "name": "stdout",
     "output_type": "stream",
     "text": [
      "Archivo cargado con éxito. A continuación, las primeras 5 filas del dataset\n",
      "   SECU_PER  ORDEN  ANYO TRIM TIPO_MIGR  SEXO  PAIS_NACIM  PROVNAC  MUNINAC  \\\n",
      "0         1      1  2021   T3        MI     1         108     20.0      NaN   \n",
      "1         2      1  2021   T3        MI     6         108     31.0    232.0   \n",
      "2         3      1  2021   T2        MI     6         108      1.0      NaN   \n",
      "3         4      1  2021   T4        MI     6         108     24.0      NaN   \n",
      "4         5      1  2021   T1        EE     6         108     20.0     30.0   \n",
      "\n",
      "   TAMUNAC  EDAD  ANAC  PAIS_NACIO  PAIS_PROC_DEST  PROVDEST  MUNIDEST  \\\n",
      "0      1.0    61  1960         108             NaN      31.0       NaN   \n",
      "1      3.0    57  1963         108             NaN      31.0       NaN   \n",
      "2      1.0    61  1959         108             NaN       1.0       NaN   \n",
      "3      1.0    66  1955         108             NaN       1.0      59.0   \n",
      "4      3.0    55  1965         108             0.0       NaN       NaN   \n",
      "\n",
      "   TAMUDEST  PROVPROC  MUNIPROC  TAMUPROC  \n",
      "0       1.0      26.0       NaN       1.0  \n",
      "1       1.0      26.0       NaN       1.0  \n",
      "2       1.0       1.0       NaN       1.0  \n",
      "3       6.0       1.0       NaN       1.0  \n",
      "4       NaN       1.0      59.0       6.0  \n"
     ]
    }
   ],
   "source": [
    "# Ruta al archivo \n",
    "file_path = r'C:\\temp\\datos_2021\\EMCR_2021.tab'\n",
    "\n",
    "# Intentar cargar el archivo\n",
    "try:\n",
    "    df_emcr2021 = pd.read_csv(file_path, sep='\\t', encoding='utf-8')\n",
    "    print(\"Archivo cargado con éxito. A continuación, las primeras 5 filas del dataset\")\n",
    "    print(df_emcr2021.head())\n",
    "except PermissionError:\n",
    "    print(\"Error: No hay permiso para acceder al archivo. Revisar los permisos.\")\n",
    "except FileNotFoundError:\n",
    "    print(\"Error: Archivo no encontrado. Verificar la ruta.\")"
   ]
  },
  {
   "cell_type": "code",
   "execution_count": 8,
   "metadata": {},
   "outputs": [
    {
     "name": "stdout",
     "output_type": "stream",
     "text": [
      "Últimas 10 filas del dataset:\n",
      "         SECU_PER  ORDEN  ANYO TRIM TIPO_MIGR  SEXO  PAIS_NACIM  PROVNAC  \\\n",
      "3255533   3110589      1  2021   T4        IE     1         426      NaN   \n",
      "3255534   3110590      1  2021   T3        IE     1         426      NaN   \n",
      "3255535   3110591      1  2021   T3        IE     6         351      NaN   \n",
      "3255536   3110592      1  2021   T3        IE     1         407      NaN   \n",
      "3255537   3110593      1  2021   T4        IE     6         410      NaN   \n",
      "3255538   3110594      1  2021   T3        IE     1         340      NaN   \n",
      "3255539   3110594      2  2021   T4        MI     1         340      NaN   \n",
      "3255540   3110595      1  2021   T4        IE     1         351      NaN   \n",
      "3255541   3110596      1  2021   T1        IE     6         410      NaN   \n",
      "3255542   3110597      1  2021   T2        IE     1         426      NaN   \n",
      "\n",
      "         MUNINAC  TAMUNAC  EDAD  ANAC  PAIS_NACIO  PAIS_PROC_DEST  PROVDEST  \\\n",
      "3255533      NaN      NaN     1  2019         426           426.0      20.0   \n",
      "3255534      NaN      NaN    21  1999         426           426.0       8.0   \n",
      "3255535      NaN      NaN    56  1965         108           351.0      28.0   \n",
      "3255536      NaN      NaN    19  2002         407           407.0      29.0   \n",
      "3255537      NaN      NaN    33  1988         410             0.0      17.0   \n",
      "3255538      NaN      NaN    38  1982         115           340.0       7.0   \n",
      "3255539      NaN      NaN    38  1982         115             NaN       8.0   \n",
      "3255540      NaN      NaN    39  1982         115             0.0      28.0   \n",
      "3255541      NaN      NaN    30  1990         410           410.0      30.0   \n",
      "3255542      NaN      NaN    38  1983         426             0.0       8.0   \n",
      "\n",
      "         MUNIDEST  TAMUDEST  PROVPROC  MUNIPROC  TAMUPROC  \n",
      "3255533       NaN       1.0       NaN       NaN       NaN  \n",
      "3255534      19.0       6.0       NaN       NaN       NaN  \n",
      "3255535      79.0       6.0       NaN       NaN       NaN  \n",
      "3255536      67.0       6.0       NaN       NaN       NaN  \n",
      "3255537     114.0       3.0       NaN       NaN       NaN  \n",
      "3255538      36.0       3.0       NaN       NaN       NaN  \n",
      "3255539      19.0       6.0       7.0      36.0       3.0  \n",
      "3255540      14.0       4.0       NaN       NaN       NaN  \n",
      "3255541      26.0       3.0       NaN       NaN       NaN  \n",
      "3255542      19.0       6.0       NaN       NaN       NaN  \n"
     ]
    }
   ],
   "source": [
    "print(\"Últimas 10 filas del dataset:\")\n",
    "\n",
    "print(df_emcr2021.tail(10))"
   ]
  },
  {
   "cell_type": "code",
   "execution_count": 9,
   "metadata": {},
   "outputs": [
    {
     "name": "stdout",
     "output_type": "stream",
     "text": [
      "\n",
      "Información general del dataset:\n",
      "<class 'pandas.core.frame.DataFrame'>\n",
      "RangeIndex: 3255543 entries, 0 to 3255542\n",
      "Data columns (total 20 columns):\n",
      " #   Column          Dtype  \n",
      "---  ------          -----  \n",
      " 0   SECU_PER        int64  \n",
      " 1   ORDEN           int64  \n",
      " 2   ANYO            int64  \n",
      " 3   TRIM            object \n",
      " 4   TIPO_MIGR       object \n",
      " 5   SEXO            int64  \n",
      " 6   PAIS_NACIM      int64  \n",
      " 7   PROVNAC         float64\n",
      " 8   MUNINAC         float64\n",
      " 9   TAMUNAC         float64\n",
      " 10  EDAD            int64  \n",
      " 11  ANAC            int64  \n",
      " 12  PAIS_NACIO      int64  \n",
      " 13  PAIS_PROC_DEST  float64\n",
      " 14  PROVDEST        float64\n",
      " 15  MUNIDEST        float64\n",
      " 16  TAMUDEST        float64\n",
      " 17  PROVPROC        float64\n",
      " 18  MUNIPROC        float64\n",
      " 19  TAMUPROC        float64\n",
      "dtypes: float64(10), int64(8), object(2)\n",
      "memory usage: 496.8+ MB\n",
      "None\n"
     ]
    }
   ],
   "source": [
    "# Información general del dataset (número de filas, columnas, tipos de datos)\n",
    "print(\"\\nInformación general del dataset:\")\n",
    "print(df_emcr2021.info())"
   ]
  },
  {
   "cell_type": "code",
   "execution_count": 10,
   "metadata": {},
   "outputs": [
    {
     "name": "stdout",
     "output_type": "stream",
     "text": [
      "Estadísticas descriptivas de las variables numéricas relevantes (formato entero):\n",
      "          EDAD\n",
      "count  3255543\n",
      "mean        36\n",
      "std         19\n",
      "min          0\n",
      "25%         24\n",
      "50%         34\n",
      "75%         47\n",
      "max         90\n"
     ]
    },
    {
     "name": "stderr",
     "output_type": "stream",
     "text": [
      "C:\\Users\\josep\\AppData\\Local\\Temp\\ipykernel_13664\\4113033831.py:8: FutureWarning: DataFrame.applymap has been deprecated. Use DataFrame.map instead.\n",
      "  estadisticas_formateadas = estadisticas.applymap(lambda x: int(x) if x == x // 1 else round(x))\n"
     ]
    }
   ],
   "source": [
    "# Seleccionando las columnas columnas númericas relevantes para el análisis, en este caso sería únicamente la edad.\n",
    "columnas_relevantes = ['EDAD'] \n",
    "\n",
    "# Calcular estadísticas descriptivas\n",
    "estadisticas = df_emcr2021[columnas_relevantes].describe()\n",
    "\n",
    "# Convertir las estadísticas a enteros para mayor legibilidad\n",
    "estadisticas_formateadas = estadisticas.applymap(lambda x: int(x) if x == x // 1 else round(x))\n",
    "\n",
    "# Imprimir resultados\n",
    "print(\"Estadísticas descriptivas de las variables numéricas relevantes (formato entero):\")\n",
    "print(estadisticas_formateadas)\n"
   ]
  },
  {
   "cell_type": "code",
   "execution_count": 11,
   "metadata": {},
   "outputs": [
    {
     "data": {
      "text/plain": [
       "(3255543, 20)"
      ]
     },
     "execution_count": 11,
     "metadata": {},
     "output_type": "execute_result"
    }
   ],
   "source": [
    "# Número de filas y columnas del dataset:\n",
    "df_emcr2021.shape"
   ]
  },
  {
   "cell_type": "code",
   "execution_count": 12,
   "metadata": {},
   "outputs": [
    {
     "data": {
      "image/png": "[encoded data removed]",
      "text/plain": [
       "<Figure size 640x480 with 1 Axes>"
      ]
     },
     "metadata": {},
     "output_type": "display_data"
    }
   ],
   "source": [
    "# Gráfica de densidad:\n",
    "sns.kdeplot(data=df_emcr2021, x='EDAD')\n",
    "plt.title(\"Gráfica de densidad de Kernel\")\n",
    "plt.show()"
   ]
  },
  {
   "cell_type": "markdown",
   "metadata": {},
   "source": [
    "En la gráfica anterior se observa como la población del dataset está principalmente concentrada en edades productivas, de entre 30 a 50 años. Por otro lado, hay una baja representación de extremos jóvenes (0 a 20) y menos aún la representación de mayores de 60 años. "
   ]
  },
  {
   "cell_type": "code",
   "execution_count": 16,
   "metadata": {},
   "outputs": [
    {
     "name": "stdout",
     "output_type": "stream",
     "text": [
      "Cantidad de filas duplicadas:\n"
     ]
    },
    {
     "data": {
      "text/plain": [
       "0"
      ]
     },
     "execution_count": 16,
     "metadata": {},
     "output_type": "execute_result"
    }
   ],
   "source": [
    "# Filas duplicadas:\n",
    "print(\"Cantidad de filas duplicadas:\")\n",
    "df_emcr2021[df_emcr2021.duplicated()].shape[0]"
   ]
  },
  {
   "cell_type": "markdown",
   "metadata": {},
   "source": [
    "No hay filas duplicadas."
   ]
  },
  {
   "cell_type": "code",
   "execution_count": 15,
   "metadata": {},
   "outputs": [
    {
     "name": "stdout",
     "output_type": "stream",
     "text": [
      "Cantidad de valores únicos por cada columna:\n"
     ]
    },
    {
     "data": {
      "text/plain": [
       "SECU_PER          3110597\n",
       "ORDEN                   9\n",
       "ANYO                    1\n",
       "TRIM                    4\n",
       "TIPO_MIGR               3\n",
       "SEXO                    2\n",
       "PAIS_NACIM             60\n",
       "PROVNAC                53\n",
       "MUNINAC               231\n",
       "TAMUNAC                 6\n",
       "EDAD                   91\n",
       "ANAC                   92\n",
       "PAIS_NACIO             61\n",
       "PAIS_PROC_DEST         60\n",
       "PROVDEST               52\n",
       "MUNIDEST              230\n",
       "TAMUDEST                6\n",
       "PROVPROC               52\n",
       "MUNIPROC              230\n",
       "TAMUPROC                6\n",
       "dtype: int64"
      ]
     },
     "execution_count": 15,
     "metadata": {},
     "output_type": "execute_result"
    }
   ],
   "source": [
    "#valores únicos:\n",
    "\n",
    "print(\"Cantidad de valores únicos por cada columna:\")\n",
    "\n",
    "df_emcr2021.nunique()"
   ]
  },
  {
   "cell_type": "markdown",
   "metadata": {},
   "source": [
    "SECU_PER: Tiene 3110597 valores únicos. SECU_PER significa Secuencial por Persona y es el ID de la persona que realiza el movimiento migratorio. Sabemos que en total tenemos 3255543 filas, lo que significa que hay individuos que han realizado más de 1 movimiento migratorio durante el mismo año, 2021. \n",
    "\n",
    "ORDEN: Se entiende que hay individuos que han realizado más de 1 movimiento migratorio durante el 2021, inclusive llegando a 9 movimientos migratorios. \n",
    "\n",
    "TIPO_MIGR: existen 3 tipos diferentes de movimientos migratorios: IE, EE, MI.\n"
   ]
  },
  {
   "cell_type": "code",
   "execution_count": 17,
   "metadata": {},
   "outputs": [
    {
     "name": "stdout",
     "output_type": "stream",
     "text": [
      "Valores nulos por columna:\n",
      "SECU_PER                0\n",
      "ORDEN                   0\n",
      "ANYO                    0\n",
      "TRIM                    0\n",
      "TIPO_MIGR               0\n",
      "SEXO                    0\n",
      "PAIS_NACIM              0\n",
      "PROVNAC           1899504\n",
      "MUNINAC           2141250\n",
      "TAMUNAC           1899900\n",
      "EDAD                    0\n",
      "ANAC                    0\n",
      "PAIS_NACIO              0\n",
      "PAIS_PROC_DEST    1670717\n",
      "PROVDEST           696866\n",
      "MUNIDEST          1251990\n",
      "TAMUDEST           696866\n",
      "PROVPROC           887960\n",
      "MUNIPROC          1351070\n",
      "TAMUPROC           887960\n",
      "dtype: int64\n"
     ]
    }
   ],
   "source": [
    "# Valores nulos:\n",
    "\n",
    "print(\"Valores nulos por columna:\")\n",
    "print(df_emcr2021.isnull().sum())"
   ]
  },
  {
   "cell_type": "markdown",
   "metadata": {},
   "source": [
    "Los valores nulos evidenciados en el resumen no representan un problema, ya que se debe a una característica lógica del diseño del dataset. Es decir, hay presencia de variables que son mutuamente excluyentes, por lo que si un determinado registro presenta valor en una variable la otra variable será nula para el mismo registro. Por ejemplo, si una persona realiza un movimiento migratorio de ingreso a España, solo los campos PROVDEST, MUNIDEST, TAMUDEST tendrían valores válidos, mientras que los campos PROVPROC, MUNIPROC y TAMUPROC tendrían valores nulos, pues el campo no contempla valores de procedencia que sean fuera de España. Por otro lado, vemos que no hay ningún valor nulo para las variables que son de nuestro interés tales como EDAD, PAIS_NACIM (país de nacimiento), SEXO y TIPO_MIGR (Tipo de Migración) o SECU_PER (id)"
   ]
  },
  {
   "cell_type": "markdown",
   "metadata": {},
   "source": [
    "El análisis de datos se ha continuado en gran medida con el Power BI y Flourish y se puede acceder a el en este mismo repositorio."
   ]
  }
 ],
 "metadata": {
  "kernelspec": {
   "display_name": "Python 3",
   "language": "python",
   "name": "python3"
  },
  "language_info": {
   "codemirror_mode": {
    "name": "ipython",
    "version": 3
   },
   "file_extension": ".py",
   "mimetype": "text/x-python",
   "name": "python",
   "nbconvert_exporter": "python",
   "pygments_lexer": "ipython3",
   "version": "3.12.0"
  }
 },
 "nbformat": 4,
 "nbformat_minor": 2
}
